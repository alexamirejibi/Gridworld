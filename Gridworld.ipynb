{
 "cells": [
  {
   "cell_type": "markdown",
   "metadata": {},
   "source": [
    "## Problems Six -- Ten: Q-Learning in Gridworld\n",
    "\n",
    "This is an experiment with Reinforcement Learning a Grid World, a simple\n",
    "problem in which a single agent moves around a 2D grid in search of a goal state where\n",
    "a reward sits waiting.\n",
    "\n",
    "In general, it \"costs\" 1 unit to move, so that many cells may have an immediate reward of -1.\n",
    "There are also \"holes\" where the game terminates and the immediate reward is -100.\n",
    "The start state has a reward of 0 and the goal state has a reward of 100. The trial\n",
    "terminates at holes and in the goal state. \n",
    "\n",
    "The next two cells show how each world is created as an object with a grid of rewards, \n",
    "a start state, and terminal states (where the current trial will end). "
   ]
  },
  {
   "cell_type": "code",
   "execution_count": 24,
   "metadata": {
    "code_folding": [
     0
    ]
   },
   "outputs": [],
   "source": [
    "# Each grid world has a 2d matrix of rewards (which also gives the dimensions of the matrix),\n",
    "# a start state, and a list of terminal states, where a trial will terminate\n",
    "\n",
    "\n",
    "class GridWorld:\n",
    " \n",
    "    # constructor\n",
    "    def __init__(self, reward_grid, start_state, terminal_states):\n",
    "        self.reward_grid = reward_grid\n",
    "        self.terminal_states = terminal_states\n",
    "        self.start_state = start_state\n",
    "        self.num_rows = len(reward_grid)\n",
    "        self.num_cols = len(reward_grid[0])\n",
    "    \n",
    "    # rewards in each state\n",
    "    \n",
    "    def R(self,state):\n",
    "        (r,c) = state\n",
    "        return self.reward_grid[r][c]\n",
    "    \n",
    "    # print out the rewards in text form\n",
    "    \n",
    "    def print_rewards(self):\n",
    "        print(\"Rewards\")\n",
    "        width = 5\n",
    "        hrule = ('-------'*self.num_cols)+'-'\n",
    "\n",
    "        print(hrule)\n",
    "        for r in range(self.num_rows):\n",
    "            print('|',end='')\n",
    "            for c in range(self.num_cols):  \n",
    "                if (r,c) == self.start_state:\n",
    "                    print(f\"{0:{width}} |\",end='')\n",
    "                else:\n",
    "                    print(f\"{self.reward_grid[r][c]:{width}} |\",end='')\n",
    "            print('\\n'+hrule)\n",
    "    \n",
    "    # Display the grid with colors and show the start and goal\n",
    "    \n",
    "    def display_heat_map(self):\n",
    "        fig = plt.figure()\n",
    "        ax = fig.add_subplot(111)\n",
    "        ax.set_title('Grid World')\n",
    "        ax.xaxis.set_ticks(range(20))             # assumes that no more than 20 rows or columns\n",
    "        ax.yaxis.set_ticks(range(20))\n",
    "        for tick in ax.xaxis.get_major_ticks():\n",
    "            tick.tick1line.set_visible(False)\n",
    "            tick.tick2line.set_visible(False)\n",
    "            tick.label1.set_visible(False)\n",
    "            tick.label2.set_visible(False)\n",
    "        for tick in ax.yaxis.get_major_ticks():\n",
    "            tick.tick1line.set_visible(False)\n",
    "            tick.tick2line.set_visible(False)\n",
    "            tick.label1.set_visible(False)\n",
    "            tick.label2.set_visible(False)\n",
    "        ax.imshow(self.reward_grid,extent=(0,self.num_cols,0,self.num_rows))\n",
    "        (r,c) = self.start_state\n",
    "        ax.scatter(c+0.5,self.num_rows-r-0.5,color='r',marker='o')\n",
    "        ax.grid(True)\n",
    "        plt.show()\n",
    "        "
   ]
  },
  {
   "cell_type": "code",
   "execution_count": 25,
   "metadata": {
    "code_folding": [
     0
    ]
   },
   "outputs": [
    {
     "name": "stdout",
     "output_type": "stream",
     "text": [
      "\n",
      "World 0 \n",
      "\n",
      "Rewards\n",
      "---------------\n",
      "|    0 |   -1 |\n",
      "---------------\n",
      "|   -1 |  100 |\n",
      "---------------\n"
     ]
    },
    {
     "data": {
      "image/png": "[encoded data removed]",
      "text/plain": [
       "<Figure size 640x480 with 1 Axes>"
      ]
     },
     "metadata": {},
     "output_type": "display_data"
    },
    {
     "name": "stdout",
     "output_type": "stream",
     "text": [
      "Terminal states: [(1, 1)]\n",
      "\n",
      "\n",
      "World 1 \n",
      "\n",
      "Rewards\n",
      "----------------------\n",
      "|   -1 |   -1 |   -1 |\n",
      "----------------------\n",
      "|    0 | -100 |  100 |\n",
      "----------------------\n"
     ]
    },
    {
     "data": {
      "image/png": "[encoded data removed]",
      "text/plain": [
       "<Figure size 640x480 with 1 Axes>"
      ]
     },
     "metadata": {},
     "output_type": "display_data"
    },
    {
     "name": "stdout",
     "output_type": "stream",
     "text": [
      "Terminal states: [(1, 1), (1, 2)]\n",
      "\n",
      "\n",
      "World 2 \n",
      "\n",
      "Rewards\n",
      "-------------------------------------------------------------------------------------\n",
      "|   -1 |   -1 |   -1 |   -1 |   -1 |   -1 |   -1 |   -1 |   -1 |   -1 |   -1 |   -1 |\n",
      "-------------------------------------------------------------------------------------\n",
      "|   -1 |   -1 |   -1 |   -1 |   -1 |   -1 |   -1 |   -1 |   -1 |   -1 |   -1 |   -1 |\n",
      "-------------------------------------------------------------------------------------\n",
      "|   -1 |   -1 |   -1 |   -1 |   -1 |   -1 |   -1 |   -1 |   -1 |   -1 |   -1 |   -1 |\n",
      "-------------------------------------------------------------------------------------\n",
      "|    0 | -100 | -100 | -100 | -100 | -100 | -100 | -100 | -100 | -100 | -100 |  100 |\n",
      "-------------------------------------------------------------------------------------\n"
     ]
    },
    {
     "data": {
      "image/png": "[encoded data removed]",
      "text/plain": [
       "<Figure size 640x480 with 1 Axes>"
      ]
     },
     "metadata": {},
     "output_type": "display_data"
    },
    {
     "name": "stdout",
     "output_type": "stream",
     "text": [
      "Terminal states: [(3, 1), (3, 2), (3, 3), (3, 4), (3, 5), (3, 6), (3, 7), (3, 8), (3, 9), (3, 10), (3, 11)]\n",
      "\n",
      "\n",
      "World 3 \n",
      "\n",
      "Rewards\n",
      "------------------------------------------------------------------------------\n",
      "|   -1 |   -1 |   -1 | -100 |   -1 |   -1 |   -1 | -100 |   -1 |   -1 |   -1 |\n",
      "------------------------------------------------------------------------------\n",
      "|   -1 | -100 |   -1 | -100 |   -1 | -100 |   -1 | -100 |   -1 | -100 |   -1 |\n",
      "------------------------------------------------------------------------------\n",
      "|   -1 | -100 |   -1 | -100 |   -1 | -100 |   -1 | -100 |   -1 | -100 |   -1 |\n",
      "------------------------------------------------------------------------------\n",
      "|    0 | -100 |   -1 |   -1 |   -1 | -100 |   -1 |   -1 |   -1 | -100 |  100 |\n",
      "------------------------------------------------------------------------------\n"
     ]
    },
    {
     "data": {
      "image/png": "[encoded data removed]",
      "text/plain": [
       "<Figure size 640x480 with 1 Axes>"
      ]
     },
     "metadata": {},
     "output_type": "display_data"
    },
    {
     "name": "stdout",
     "output_type": "stream",
     "text": [
      "Terminal states: [(0, 3), (0, 7), (1, 1), (1, 3), (1, 5), (1, 7), (1, 9), (2, 1), (2, 3), (2, 5), (2, 7), (2, 9), (3, 1), (3, 5), (3, 9), (3, 10)]\n",
      "\n",
      "\n",
      "World 4 \n",
      "\n",
      "Rewards\n",
      "-------------------------------------------------------------------------------------\n",
      "|    0 |-1.04 |-1.13 |-1.31 |-1.51 |-1.64 |-1.68 |-1.84 |-2.42 |-3.45 |-4.52 |-4.98 |\n",
      "-------------------------------------------------------------------------------------\n",
      "|-1.02 |-1.09 | -1.3 | -1.7 |-2.16 | -2.4 |-2.31 |-2.18 |-2.44 |-3.22 |-4.12 |-4.51 |\n",
      "-------------------------------------------------------------------------------------\n",
      "|-1.04 |-1.16 | -1.5 |-2.16 |-2.91 |-3.28 |-3.01 |-2.48 |-2.29 |-2.62 |-3.17 |-3.42 |\n",
      "-------------------------------------------------------------------------------------\n",
      "|-1.05 |-1.19 | -1.6 |-2.37 |-3.27 | -3.7 |-3.34 |-2.57 |-2.03 |-1.98 |-2.18 | -2.3 |\n",
      "-------------------------------------------------------------------------------------\n",
      "|-1.06 |-1.18 |-1.53 | -2.2 | -3.0 |-3.41 |-3.11 |-2.38 |-1.77 |-1.52 |-1.52 |-1.55 |\n",
      "-------------------------------------------------------------------------------------\n",
      "|-1.11 |-1.18 | -1.4 |-1.87 |-2.47 |-2.87 |-2.75 |-2.22 |-1.66 |-1.33 |-1.22 |-1.19 |\n",
      "-------------------------------------------------------------------------------------\n",
      "|-1.27 | -1.3 | -1.4 |-1.71 |-2.25 |-2.77 |-2.87 |-2.46 |-1.85 |-1.37 |-1.14 |-1.07 |\n",
      "-------------------------------------------------------------------------------------\n",
      "|-1.65 |-1.63 |-1.63 |-1.86 |-2.44 |-3.14 |-3.42 | -3.0 | -2.2 |-1.52 |-1.17 |-1.04 |\n",
      "-------------------------------------------------------------------------------------\n",
      "| -2.3 |-2.21 |-2.06 |-2.14 |-2.66 |-3.39 |-3.72 |-3.28 |-2.37 | -1.6 |-1.19 |-1.04 |\n",
      "-------------------------------------------------------------------------------------\n",
      "|-3.14 |-2.97 |-2.59 |-2.37 |-2.59 |-3.08 |-3.31 |-2.92 |-2.16 | -1.5 |-1.16 |-1.03 |\n",
      "-------------------------------------------------------------------------------------\n",
      "|-3.88 |-3.63 |-3.03 |-2.48 |-2.28 |-2.39 |-2.44 |-2.17 | -1.7 | -1.3 |-1.09 |-1.02 |\n",
      "-------------------------------------------------------------------------------------\n",
      "|-4.18 |-3.89 |-3.17 |-2.43 |-1.95 |-1.76 |-1.68 |-1.52 |-1.31 |-1.13 |-1.04 |100.0 |\n",
      "-------------------------------------------------------------------------------------\n"
     ]
    },
    {
     "data": {
      "image/png": "[encoded data removed]",
      "text/plain": [
       "<Figure size 640x480 with 1 Axes>"
      ]
     },
     "metadata": {},
     "output_type": "display_data"
    },
    {
     "name": "stdout",
     "output_type": "stream",
     "text": [
      "Terminal states: [(11, 11)]\n",
      "\n",
      "\n",
      "World 5 \n",
      "\n",
      "Rewards\n",
      "-----------------------------------------------------------------------\n",
      "|    0 | -2.8 | -4.0 | -4.6 | -5.8 | -3.5 | -5.6 | -1.1 | -0.4 | -6.2 |\n",
      "-----------------------------------------------------------------------\n",
      "| -2.1 | -4.7 | -4.3 | -0.7 | -9.3 | -9.1 | -9.8 | -1.7 | -2.2 | -1.3 |\n",
      "-----------------------------------------------------------------------\n",
      "| -0.2 | -2.0 | -5.4 | -2.2 | -8.8 | -3.6 | -8.6 | -0.6 | -4.8 | -5.9 |\n",
      "-----------------------------------------------------------------------\n",
      "| -7.4 | -2.3 | -5.4 | -4.3 | -9.8 | -3.8 | -3.9 | -3.8 | -0.6 | -3.2 |\n",
      "-----------------------------------------------------------------------\n",
      "| -6.4 | -5.6 | -3.0 | -9.4 | -3.3 | -3.3 | -7.9 | -8.7 | -6.8 | -6.4 |\n",
      "-----------------------------------------------------------------------\n",
      "| -4.3 | -5.6 | -0.1 | -9.0 | -7.9 | -8.4 | -3.5 | -7.5 | -5.3 | -7.6 |\n",
      "-----------------------------------------------------------------------\n",
      "| -8.4 | -8.9 | -3.4 | -8.6 | -8.0 | -6.3 | -1.8 | -9.0 | -1.6 | -9.0 |\n",
      "-----------------------------------------------------------------------\n",
      "| -0.2 | -5.3 | -0.2 | -4.0 | -2.6 | -9.6 | -7.2 | -8.8 | -7.0 | -8.8 |\n",
      "-----------------------------------------------------------------------\n",
      "| -6.8 | -5.9 | -9.4 | -3.1 | -4.3 | -7.3 | -4.8 | -9.1 | -4.2 | -0.7 |\n",
      "-----------------------------------------------------------------------\n",
      "| -6.8 | -3.3 | -8.7 | -2.8 | -7.1 | -8.2 | -4.1 | -9.8 | -1.7 |100.0 |\n",
      "-----------------------------------------------------------------------\n"
     ]
    },
    {
     "data": {
      "image/png": "[encoded data removed]",
      "text/plain": [
       "<Figure size 640x480 with 1 Axes>"
      ]
     },
     "metadata": {},
     "output_type": "display_data"
    },
    {
     "name": "stdout",
     "output_type": "stream",
     "text": [
      "Terminal states: [(9, 9)]\n",
      "\n",
      "\n",
      "World 6 \n",
      "\n",
      "Rewards\n",
      "-------------------------------------------\n",
      "|    0 | -100 | -100 |   -1 |   -1 |   -1 |\n",
      "-------------------------------------------\n",
      "|   -1 |   -1 |   -1 | -100 |   -1 |  -10 |\n",
      "-------------------------------------------\n",
      "| -100 |   -1 | -100 |   -1 |   -1 |   -1 |\n",
      "-------------------------------------------\n",
      "| -100 |   -1 |   -1 |   -1 | -100 |   -1 |\n",
      "-------------------------------------------\n",
      "|   -1 |   -1 | -100 |   -1 | -100 |   -1 |\n",
      "-------------------------------------------\n",
      "| -100 | -100 |   -1 |   -1 |  100 |   -1 |\n",
      "-------------------------------------------\n"
     ]
    },
    {
     "data": {
      "image/png": "[encoded data removed]",
      "text/plain": [
       "<Figure size 640x480 with 1 Axes>"
      ]
     },
     "metadata": {},
     "output_type": "display_data"
    },
    {
     "name": "stdout",
     "output_type": "stream",
     "text": [
      "Terminal states: [(0, 1), (0, 2), (1, 3), (2, 0), (2, 2), (3, 0), (3, 4), (4, 2), (4, 4), (5, 0), (5, 1), (5, 4)]\n",
      "\n",
      "\n",
      "World 7 \n",
      "\n",
      "Rewards\n",
      "-------------------------------------------\n",
      "|    0 | -100 | -100 |   -1 |   -1 |   -1 |\n",
      "-------------------------------------------\n",
      "|   -1 |   -1 |   -1 | -100 |   -1 | -100 |\n",
      "-------------------------------------------\n",
      "| -100 |   -1 | -100 |   -1 |   -1 |   -1 |\n",
      "-------------------------------------------\n",
      "| -100 |   -1 |   -1 |   -1 | -100 |   -1 |\n",
      "-------------------------------------------\n",
      "|   -1 |   -1 | -100 |   -1 | -100 |   -1 |\n",
      "-------------------------------------------\n",
      "| -100 |   -1 |   -1 | -100 |  100 |   -1 |\n",
      "-------------------------------------------\n"
     ]
    },
    {
     "data": {
      "image/png": "[encoded data removed]",
      "text/plain": [
       "<Figure size 640x480 with 1 Axes>"
      ]
     },
     "metadata": {},
     "output_type": "display_data"
    },
    {
     "name": "stdout",
     "output_type": "stream",
     "text": [
      "Terminal states: [(0, 1), (0, 2), (1, 3), (1, 5), (2, 0), (2, 2), (3, 0), (3, 4), (4, 2), (4, 4), (5, 0), (5, 3), (5, 4)]\n",
      "\n",
      "\n",
      "World 8 \n",
      "\n",
      "Rewards\n",
      "-------------------------------------------------------------------------------------\n",
      "|    0 |    0 | -100 |   -1 |   -1 | -100 |   -1 |   -1 |   -1 | -100 | -100 |   -1 |\n",
      "-------------------------------------------------------------------------------------\n",
      "|   -1 | -100 |   -1 | -100 |   -1 | -100 |   -1 | -100 |   -1 |   -1 |   -1 |   -1 |\n",
      "-------------------------------------------------------------------------------------\n",
      "|   -1 | -100 |   -1 | -100 |   -1 | -100 |   -1 | -100 |   -1 | -100 | -100 |   -1 |\n",
      "-------------------------------------------------------------------------------------\n",
      "|   -1 |   -1 |   -1 | -100 |   -1 |   -1 |   -1 | -100 |   -1 |   -1 |   -1 | -100 |\n",
      "-------------------------------------------------------------------------------------\n",
      "|   -1 | -100 |   -1 | -100 | -100 | -100 |   -1 |   -1 | -100 | -100 |   -1 |   -1 |\n",
      "-------------------------------------------------------------------------------------\n",
      "| -100 |   -1 |   -1 | -100 |   -1 |   -1 | -100 |   -1 |   -1 |   -1 | -100 |   -1 |\n",
      "-------------------------------------------------------------------------------------\n",
      "|   -1 | -100 |   -1 | -100 |   -1 |   -1 |   -1 | -100 |   -1 | -100 |   -1 |   -1 |\n",
      "-------------------------------------------------------------------------------------\n",
      "|   -1 |   -1 |   -1 | -100 |   -1 | -100 | -100 |   -1 |   -1 | -100 |   -1 |   -1 |\n",
      "-------------------------------------------------------------------------------------\n",
      "|   -1 | -100 |   -1 | -100 |   -1 |   -1 |   -1 |   -1 | -100 | -100 | -100 |   -1 |\n",
      "-------------------------------------------------------------------------------------\n",
      "|   -1 |   -1 |   -1 |   -1 |   -1 | -100 | -100 | -100 |   -1 | -100 |   -1 |   -1 |\n",
      "-------------------------------------------------------------------------------------\n",
      "|   -1 | -100 |   -1 |   -1 | -100 |  100 |   -1 |   -1 |   -1 |   -1 |   -1 | -100 |\n",
      "-------------------------------------------------------------------------------------\n"
     ]
    },
    {
     "data": {
      "image/png": "[encoded data removed]",
      "text/plain": [
       "<Figure size 640x480 with 1 Axes>"
      ]
     },
     "metadata": {},
     "output_type": "display_data"
    },
    {
     "name": "stdout",
     "output_type": "stream",
     "text": [
      "Terminal states: [(0, 2), (0, 5), (0, 9), (0, 10), (1, 1), (1, 3), (1, 5), (1, 7), (2, 1), (2, 3), (2, 5), (2, 7), (2, 9), (2, 10), (3, 3), (3, 7), (3, 11), (4, 1), (4, 3), (4, 4), (4, 5), (4, 8), (4, 9), (5, 0), (5, 3), (5, 6), (5, 10), (6, 1), (6, 3), (6, 7), (6, 9), (7, 3), (7, 5), (7, 6), (7, 9), (8, 1), (8, 3), (8, 8), (8, 9), (8, 10), (9, 5), (9, 6), (9, 7), (9, 9), (10, 1), (10, 4), (10, 5), (10, 11)]\n",
      "\n"
     ]
    }
   ],
   "source": [
    "# Grid worlds initialization\n",
    "\n",
    "World = []          #   room for 10 example grid worlds\n",
    "\n",
    "# return a list of all states which have rewards which only occur in terminal states\n",
    "\n",
    "def get_terminal_states(grid,terminal_rewards=[-100,100]):\n",
    "    TS = []\n",
    "    for r in range(len(grid)):\n",
    "        for c in range(len(grid[0])):\n",
    "            if grid[r][c] in terminal_rewards:\n",
    "                TS.append((r,c))\n",
    "    return TS\n",
    "\n",
    "# World[0]: simple test case, two paths\n",
    "\n",
    "\n",
    "\n",
    "World.append( GridWorld( [ [0,-1,], \n",
    "                        [-1,100] \n",
    "                      ], \n",
    "                      (0,0), \n",
    "                      [(1,1)] \n",
    "                    )\n",
    "            )\n",
    "\n",
    "# World[1]: short cliff walking\n",
    "\n",
    "World.append( GridWorld( [ [-1,-1,-1], \n",
    "                        [0,-100,100] \n",
    "                      ], \n",
    "                      (1,0), \n",
    "                      [(1,1),(1,2)] \n",
    "                    )\n",
    "            )\n",
    "\n",
    "# World[2]: cliff walking from lecture\n",
    "\n",
    "grid =                   [ [-1,-1,-1,-1,-1,-1,-1,-1,-1,-1,-1,-1],\n",
    "                           [-1,-1,-1,-1,-1,-1,-1,-1,-1,-1,-1,-1],\n",
    "                           [-1,-1,-1,-1,-1,-1,-1,-1,-1,-1,-1,-1],\n",
    "                           [0,-100,-100,-100,-100,-100,-100,-100,-100,-100,-100,100]\n",
    "                         ]\n",
    "\n",
    "World.append( GridWorld( grid, (3,0), get_terminal_states(grid) ) )\n",
    "\n",
    "\n",
    "# World[3]: walking a serpentine path\n",
    "\n",
    "grid =                [ [-1,  -1,-1,-100,-1,  -1,-1,-100,-1,  -1, -1],\n",
    "                        [-1,-100,-1,-100,-1,-100,-1,-100,-1,-100, -1],\n",
    "                        [-1,-100,-1,-100,-1,-100,-1,-100,-1,-100, -1],\n",
    "                        [ 0,-100,-1,  -1,-1,-100,-1,  -1,-1,-100,100]\n",
    "                      ]\n",
    "\n",
    "World.append( GridWorld( grid, (3,0), get_terminal_states(grid) ) )\n",
    "\n",
    "# World[4]: This one has six \"valleys\" and the agent has to find the best path around them.\n",
    "\n",
    "def makeGridTerrain(num_rows,num_cols,Valleys):\n",
    "\n",
    "    W = np.zeros((num_rows,num_cols))\n",
    "    W.fill(-1)\n",
    "    \n",
    "    # Use the PDF of a 2D normal and subtract from the default -1\n",
    "\n",
    "    for V in Valleys:  \n",
    "        var = multivariate_normal(mean=V[0], cov=[[V[1],0],[0,V[2]]])\n",
    "        for r in range(num_rows):\n",
    "            for c in range(num_cols):\n",
    "                W[r][c] -=  var.pdf([r,c])*V[3]*10\n",
    "\n",
    "    # add start and goal states\n",
    "    \n",
    "    W[0][0] = 0\n",
    "    W[num_rows-1][num_cols-1] = 100\n",
    "    \n",
    "    return np.around(W,2)\n",
    "\n",
    "# List of valleys, each a tuple (mean = center, std_rows, std_cols, depth)\n",
    "\n",
    "Valleys = [([0,11], 4, 4, 10),\n",
    "           ([11,0], 5, 5, 10),\n",
    "           ([3,5], 3, 3, 5),\n",
    "           ([8,6], 3, 3, 5),\n",
    "          ]\n",
    "\n",
    "\n",
    "World.append( GridWorld( makeGridTerrain(12,12,Valleys), (0,0), [(11,11)] ) )\n",
    "               \n",
    "\n",
    "# World[5]: This one is completely random!\n",
    "\n",
    "seed(0); grid = np.around(10*rand(10,10)-10,1); grid[0][0] = 0; grid[9][9] = 100\n",
    "\n",
    "World.append( GridWorld( grid, (0,0), [(9,9)]) )\n",
    "\n",
    "# World[6]: Simple maze\n",
    "\n",
    "grid =                [[-1, -100, -100, -1, -1, -1], \n",
    "                       [-1, -1, -1, -100, -1, -10], \n",
    "                       [-100, -1, -100, -1, -1, -1], \n",
    "                       [-100, -1, -1, -1, -100, -1], \n",
    "                       [-1, -1, -100, -1, -100, -1], \n",
    "                       [-100, -100, -1, -1, 100, -1]\n",
    "                      ]\n",
    "\n",
    "World.append( GridWorld( grid, (0,0), get_terminal_states(grid) ) )\n",
    "\n",
    "# World[6]: More difficult maze\n",
    "\n",
    "grid =                [[-1, -100, -100, -1, -1, -1], \n",
    "                       [-1, -1, -1, -100, -1, -100], \n",
    "                       [-100, -1, -100, -1, -1, -1], \n",
    "                       [-100, -1, -1, -1, -100, -1], \n",
    "                       [-1, -1, -100, -1, -100, -1], \n",
    "                       [-100, -1, -1, -100, 100, -1]\n",
    "                      ]\n",
    "\n",
    "World.append( GridWorld( grid, (0,0), get_terminal_states(grid) ) )\n",
    "\n",
    "\n",
    "# World[7]: Hard maze\n",
    "\n",
    "grid =                [[ -1,  0,  -100,-1,  -1, -100,  -1,  -1,  -1,   -100, -100,  -1 ], \n",
    "                       [ -1, -100,  -1, -100,  -1, -100,  -1, -100,  -1,  -1,  -1,  -1 ], \n",
    "                       [ -1, -100,  -1, -100,  -1, -100,  -1, -100,  -1, -100, -100,  -1 ], \n",
    "                       [ -1,  -1,  -1, -100,  -1,  -1,  -1, -100,  -1,  -1,  -1, -100 ], \n",
    "                       [ -1, -100,  -1, -100,   -100, -100,  -1,  -1, -100, -100,  -1,  -1 ], \n",
    "                       [-100,  -1,  -1, -100,  -1,  -1, -100,  -1,  -1,  -1, -100,  -1 ], \n",
    "                       [ -1, -100,  -1, -100,  -1,  -1,  -1, -100,  -1, -100,  -1,  -1 ], \n",
    "                       [ -1,  -1,  -1, -100,  -1, -100, -100,  -1,  -1, -100,  -1,  -1 ], \n",
    "                       [ -1, -100,  -1, -100,  -1,  -1,  -1,  -1, -100, -100,   -100,  -1 ], \n",
    "                       [ -1,  -1,  -1,  -1,  -1, -100, -100, -100,  -1, -100,  -1,  -1 ], \n",
    "                       [ -1, -100,  -1,  -1, -100,  100,  -1,  -1,  -1,  -1,  -1, -100 ]\n",
    "                      ]\n",
    "\n",
    "World.append( GridWorld( grid, (0,0), get_terminal_states(grid) ) )\n",
    "                     \n",
    "\n",
    "# test\n",
    "\n",
    "for N in range(len(World)):\n",
    "    print(\"\\nWorld\",N,'\\n')\n",
    "    World[N].print_rewards()\n",
    "    World[N].display_heat_map()\n",
    "    print(\"Terminal states:\",World[N].terminal_states)\n",
    "    print()"
   ]
  },
  {
   "cell_type": "code",
   "execution_count": 911,
   "metadata": {
    "code_folding": []
   },
   "outputs": [
    {
     "name": "stdout",
     "output_type": "stream",
     "text": [
      "Rewards\n",
      "----------------------\n",
      "|   -1 |   -1 |   -1 |\n",
      "----------------------\n",
      "|    0 | -100 |  100 |\n",
      "----------------------\n",
      "['U', 'L']\n"
     ]
    },
    {
     "data": {
      "text/plain": [
       "defaultdict(<function __main__.initialize_Actions.<locals>.<lambda>()>,\n",
       "            {(0, 0): ['R', 'D'],\n",
       "             (0, 1): ['R', 'L', 'D'],\n",
       "             (0, 2): ['L', 'D'],\n",
       "             (1, 0): ['U', 'R'],\n",
       "             (1, 1): ['U', 'R', 'L'],\n",
       "             (1, 2): ['U', 'L']})"
      ]
     },
     "execution_count": 911,
     "metadata": {},
     "output_type": "execute_result"
    }
   ],
   "source": [
    "# from collections import defaultdict\n",
    "\n",
    "# Actions for each state\n",
    "# These are lists so can use np.random.choice for exploration \n",
    "\n",
    "Moves     = ['U','R','L','D']\n",
    "    \n",
    "def initialize_Actions(W):\n",
    "    actions = defaultdict(lambda: Moves.copy())\n",
    "    \n",
    "    for r in range(W.num_rows):\n",
    "        for c in range(W.num_cols):\n",
    "            current_actions = []\n",
    "            if r > 0:\n",
    "                current_actions.append('U')\n",
    "            if c < W.num_cols - 1:\n",
    "                current_actions.append('R')\n",
    "            if c > 0:\n",
    "                current_actions.append('L')\n",
    "            if r < W.num_rows - 1:\n",
    "                current_actions.append('D')\n",
    "                \n",
    "            actions[(r, c)] = current_actions\n",
    "            \n",
    "    return actions\n",
    "\n",
    "\n",
    "# test for several values of N\n",
    "N = 1\n",
    "World[N].print_rewards()\n",
    "A = initialize_Actions(World[N])\n",
    "\n",
    "print(A[(1,2)])\n",
    "\n",
    "A"
   ]
  },
  {
   "cell_type": "code",
   "execution_count": 912,
   "metadata": {
    "code_folding": []
   },
   "outputs": [
    {
     "name": "stdout",
     "output_type": "stream",
     "text": [
      "(1, 3)\n",
      "(2, 4)\n",
      "(2, 2)\n",
      "(3, 3)\n"
     ]
    }
   ],
   "source": [
    "# state transitions -- no error checking, will only be called on legal moves\n",
    "    \n",
    "def goto_state(s,a):\n",
    "    dr_dc = {\n",
    "        'U': (-1, 0),\n",
    "        'R': (0, 1),\n",
    "        'L': (0, -1),\n",
    "        'D': (1, 0)\n",
    "    }\n",
    "    r, c = s\n",
    "    dr, dc = dr_dc[a]\n",
    "    return r + dr, c + dc\n",
    "\n",
    "\n",
    "# test\n",
    "\n",
    "for m in Moves:\n",
    "    print(goto_state((2,3),m))"
   ]
  },
  {
   "cell_type": "markdown",
   "metadata": {},
   "source": [
    "## Q-Table\n"
   ]
  },
  {
   "cell_type": "code",
   "execution_count": 917,
   "metadata": {
    "code_folding": []
   },
   "outputs": [
    {
     "name": "stdout",
     "output_type": "stream",
     "text": [
      "Q-Table\n",
      "----------------------------\n",
      "|U:      |U:      |U:      |\n",
      "|L:      |L:-4.551|L:-3.541|\n",
      "|R:-4.512|R:-3.972|R:      |\n",
      "|D:-2.848|D:-5.763|D:-5.624|\n",
      "----------------------------\n",
      "|U:-1.082|        |        |\n",
      "|L:      |        |        |\n",
      "|R:-0.363|        |        |\n",
      "|D:      |        |        |\n",
      "----------------------------\n"
     ]
    }
   ],
   "source": [
    "# Q-Table is dictionary with keys (state,move) = ((row,col),move) mapped to Q-values\n",
    "\n",
    "# Initialize non-terminal states with random default values in range -10..0; but\n",
    "# must initialize all terminal states with 0.0 or else Q-values will not be accurate!\n",
    "\n",
    "seed(0)\n",
    "\n",
    "def initialize_Q_table(W, A):\n",
    "    Q = {}\n",
    "    \n",
    "    for state in A:\n",
    "        for action in A[state]:\n",
    "            if state in W.terminal_states:\n",
    "                Q[(state, action)] = 0.0\n",
    "            else:\n",
    "                Q[(state, action)] = np.random.uniform(-10, 0) # only way i could get it to randomize same as tests\n",
    "    return Q\n",
    "\n",
    "\n",
    "def print_Q_table(W,A,Q):\n",
    "    print(\"Q-Table\")\n",
    "    width = 6\n",
    "    precision = 4\n",
    "\n",
    "    hrule = ('---------'*W.num_cols)+'-'\n",
    "\n",
    "    print(hrule)\n",
    "    for r in range(W.num_rows):\n",
    "        for move in ['U','L','R','D']:\n",
    "            for c in range(W.num_cols):\n",
    "                if (r,c) in W.terminal_states:\n",
    "                    print('|  '+(\" \"*width),end='')\n",
    "                elif move in A[(r,c)]:\n",
    "                    print('|'+move+':'+f\"{np.around(Q[((r,c),move)],3):{width}.{precision}}\",end='')\n",
    "                else:\n",
    "                    print('|'+move+':'+(\" \"*width),end='')\n",
    "\n",
    "            print('|')\n",
    "        print(hrule)\n",
    "\n",
    "# test -- try for several values of N\n",
    " \n",
    "seed(0)\n",
    "N = 1\n",
    "W = World[N]\n",
    "A = initialize_Actions(World[N])\n",
    "Q = initialize_Q_table(W,A)\n",
    "print_Q_table(W,A,Q)"
   ]
  },
  {
   "cell_type": "markdown",
   "metadata": {},
   "source": [
    "## Determine allowable moves\n",
    "\n",
    "Now we must create functions to determine the best allowable move, given A, Q, and the state,\n",
    "and write an epsilon-greedy version of the strategy `Pi`. \n",
    "\n",
    "The best move is simply the allowable move from the current state with the maximum Q-value. \n",
    "Return the move as a character 'U', 'R', etc. \n",
    "\n",
    "The epsilon-greed strategy will choose a random move from those allowable in the current\n",
    "state with probability `epsilon` or the best move with probability `1-epsilon`. "
   ]
  },
  {
   "cell_type": "code",
   "execution_count": 854,
   "metadata": {
    "code_folding": []
   },
   "outputs": [],
   "source": [
    "# Strategy code for epsilon-greedy Pi\n",
    "\n",
    "# find move with best Q-value in state s\n",
    "def best_move(A,Q,s):\n",
    "    best_q_value = -sys.maxsize\n",
    "    best_action = None\n",
    "    \n",
    "    for action in A[s]:\n",
    "#         print(Q[s, action])\n",
    "        if Q[(s, action)] > best_q_value:\n",
    "            best_q_value = Q[(s, action)]\n",
    "            best_action = action\n",
    "    return best_action\n",
    "        \n",
    "\n",
    "# epsilon-greedy strategy\n",
    "\n",
    "def Pi(A, Q, s, epsilon):\n",
    "    if random() < epsilon:\n",
    "        return choice(A[s])\n",
    "    else:\n",
    "        return best_move(A, Q, s)\n",
    "\n",
    " "
   ]
  },
  {
   "cell_type": "code",
   "execution_count": 918,
   "metadata": {
    "code_folding": []
   },
   "outputs": [
    {
     "name": "stdout",
     "output_type": "stream",
     "text": [
      "D\n",
      "L\n",
      "\n",
      "R\n",
      "R\n",
      "U\n"
     ]
    }
   ],
   "source": [
    "# Tests:   run this cell repeatedly to test for N == 1 two cells up\n",
    "print(best_move(A,Q,(0,0)))   # 'D' \n",
    "print(best_move(A,Q,(0,2)))   # 'L' \n",
    "print()\n",
    "print(Pi(A,Q,(1,0),0.0))    # 'R' \n",
    "print(Pi(A,Q,(1,0),0.5))    # should give 'R' about 3x as often as 'U'\n",
    "print(Pi(A,Q,(1,0),1.0))    # should give approximately same number of 'U' and 'R'"
   ]
  },
  {
   "cell_type": "code",
   "execution_count": 920,
   "metadata": {
    "code_folding": [
     0
    ]
   },
   "outputs": [],
   "source": [
    "# Pretty-printing code for Strategy\n",
    "# Uses: best_move\n",
    "        \n",
    "def print_strategy(W,A,Q):\n",
    "    print(\"Strategy Pi\")\n",
    "    width = 6\n",
    "    precision = 4\n",
    "\n",
    "    hrule = ('------'*W.num_cols)+'-'\n",
    "\n",
    "    print(hrule)\n",
    "    for r in range(W.num_rows):\n",
    "        for k in range(3):\n",
    "            for c in range(W.num_cols):\n",
    "                if (r,c) in W.terminal_states:\n",
    "                    print('|     ',end='')\n",
    "                else:\n",
    "                    move = best_move(A,Q,(r,c))\n",
    "                    if k == 0:\n",
    "                        if move in ['L','R']:\n",
    "                            print('|     ',end='')\n",
    "                        elif move == 'U':\n",
    "                            print('|  ^  ',end='')\n",
    "                        else:\n",
    "                            print('|  |  ',end='')\n",
    "                    elif k == 1:\n",
    "                        if move =='R':\n",
    "                            print('|---->',end='')\n",
    "                        elif move == 'L':\n",
    "                            print('|<----',end='')\n",
    "                        else:\n",
    "                            print('|  |  ',end='')                        \n",
    "                    else: \n",
    "                        if move in ['L','R']:\n",
    "                            print('|     ',end='')\n",
    "                        elif move == 'D':\n",
    "                            print('|  v  ',end='')\n",
    "                        else:\n",
    "                            print('|  |  ',end='')                   \n",
    "            print('|')\n",
    "        print(hrule)\n",
    "    "
   ]
  },
  {
   "cell_type": "markdown",
   "metadata": {},
   "source": [
    "## Experiment code\n",
    "\n",
    "In this part we will create the framework for running multiple trials for the agent\n",
    "to learn how to solve the GridWorld problem of maximizing rewards. \n",
    "\n",
    "There are several parameters of interest, as explained in lecture:\n",
    "\n",
    "- epsilon =  for epsilon-greedy strategy, probability of exploration by random move\n",
    "\n",
    "- lam = exponential decrease in epsilon    (can not use \"lambda\" because that is a keyword in Python)\n",
    "\n",
    "- num_trials = number of random trials in this experiment\n",
    "\n",
    "(We also thought about the use of a \"learning rate\" parameter `alpha` and a \"discount\" `gamma` for future rewards, but these seemed to only be a disadvantage in this simple GridWorld scenario.)\n"
   ]
  },
  {
   "cell_type": "code",
   "execution_count": 1084,
   "metadata": {
    "code_folding": []
   },
   "outputs": [
    {
     "data": {
      "image/png": "[encoded data removed]",
      "text/plain": [
       "<Figure size 640x480 with 1 Axes>"
      ]
     },
     "metadata": {},
     "output_type": "display_data"
    },
    {
     "name": "stdout",
     "output_type": "stream",
     "text": [
      "\n",
      "Rewards\n",
      "-------------------------------------------------------------------------------------\n",
      "|    0 |-1.04 |-1.13 |-1.31 |-1.51 |-1.64 |-1.68 |-1.84 |-2.42 |-3.45 |-4.52 |-4.98 |\n",
      "-------------------------------------------------------------------------------------\n",
      "|-1.02 |-1.09 | -1.3 | -1.7 |-2.16 | -2.4 |-2.31 |-2.18 |-2.44 |-3.22 |-4.12 |-4.51 |\n",
      "-------------------------------------------------------------------------------------\n",
      "|-1.04 |-1.16 | -1.5 |-2.16 |-2.91 |-3.28 |-3.01 |-2.48 |-2.29 |-2.62 |-3.17 |-3.42 |\n",
      "-------------------------------------------------------------------------------------\n",
      "|-1.05 |-1.19 | -1.6 |-2.37 |-3.27 | -3.7 |-3.34 |-2.57 |-2.03 |-1.98 |-2.18 | -2.3 |\n",
      "-------------------------------------------------------------------------------------\n",
      "|-1.06 |-1.18 |-1.53 | -2.2 | -3.0 |-3.41 |-3.11 |-2.38 |-1.77 |-1.52 |-1.52 |-1.55 |\n",
      "-------------------------------------------------------------------------------------\n",
      "|-1.11 |-1.18 | -1.4 |-1.87 |-2.47 |-2.87 |-2.75 |-2.22 |-1.66 |-1.33 |-1.22 |-1.19 |\n",
      "-------------------------------------------------------------------------------------\n",
      "|-1.27 | -1.3 | -1.4 |-1.71 |-2.25 |-2.77 |-2.87 |-2.46 |-1.85 |-1.37 |-1.14 |-1.07 |\n",
      "-------------------------------------------------------------------------------------\n",
      "|-1.65 |-1.63 |-1.63 |-1.86 |-2.44 |-3.14 |-3.42 | -3.0 | -2.2 |-1.52 |-1.17 |-1.04 |\n",
      "-------------------------------------------------------------------------------------\n",
      "| -2.3 |-2.21 |-2.06 |-2.14 |-2.66 |-3.39 |-3.72 |-3.28 |-2.37 | -1.6 |-1.19 |-1.04 |\n",
      "-------------------------------------------------------------------------------------\n",
      "|-3.14 |-2.97 |-2.59 |-2.37 |-2.59 |-3.08 |-3.31 |-2.92 |-2.16 | -1.5 |-1.16 |-1.03 |\n",
      "-------------------------------------------------------------------------------------\n",
      "|-3.88 |-3.63 |-3.03 |-2.48 |-2.28 |-2.39 |-2.44 |-2.17 | -1.7 | -1.3 |-1.09 |-1.02 |\n",
      "-------------------------------------------------------------------------------------\n",
      "|-4.18 |-3.89 |-3.17 |-2.43 |-1.95 |-1.76 |-1.68 |-1.52 |-1.31 |-1.13 |-1.04 |100.0 |\n",
      "-------------------------------------------------------------------------------------\n",
      "\n",
      "Q-Table\n",
      "-------------------------------------------------------------------------------------------------------------\n",
      "|U:      |U:      |U:      |U:      |U:      |U:      |U:      |U:      |U:      |U:      |U:      |U:      |\n",
      "|L:      |L: 69.41|L: 69.03|L: 69.77|L:  70.9|L: 72.21|L: 73.72|L: 75.36|L: 77.04|L: 78.64|L: 78.32|L: 76.93|\n",
      "|R: 69.03|R: 69.77|R:  70.9|R: 72.21|R: 73.72|R: 75.36|R: 77.04|R: 78.64|R: 78.32|R: 76.93|R: 76.85|R:      |\n",
      "|D: 69.41|D: 70.07|D: 69.94|D: 70.31|D: 72.01|D: 74.17|D: 76.57|D: 78.88|D: 81.06|D: 81.77|D: 81.45|D: 81.83|\n",
      "-------------------------------------------------------------------------------------------------------------\n",
      "|U: 69.41|U: 69.03|U: 69.77|U:  70.9|U: 72.21|U: 73.72|U: 75.36|U: 77.04|U: 78.64|U: 78.32|U: 76.93|U: 76.85|\n",
      "|L:      |L: 69.41|L: 70.07|L: 69.94|L: 70.31|L: 72.01|L: 74.17|L: 76.57|L: 78.88|L: 81.06|L: 81.77|L: 81.45|\n",
      "|R: 70.07|R: 69.94|R: 70.31|R: 72.01|R: 74.17|R: 76.57|R: 78.88|R: 81.06|R: 81.77|R: 81.45|R: 81.83|R:      |\n",
      "|D: 70.43|D: 71.16|D: 71.24|D: 70.54|D: 71.82|D: 74.73|D: 78.01|D: 81.02|D:  83.5|D: 84.99|D: 85.57|D: 86.34|\n",
      "-------------------------------------------------------------------------------------------------------------\n",
      "|U: 69.41|U: 70.07|U: 69.94|U: 70.31|U: 72.01|U: 74.17|U: 76.57|U: 78.88|U: 81.06|U: 81.77|U: 81.45|U: 81.83|\n",
      "|L:      |L: 70.43|L: 71.16|L: 71.24|L: 70.54|L: 71.82|L: 74.73|L: 78.01|L: 81.02|L:  83.5|L: 84.99|L: 85.57|\n",
      "|R: 71.16|R: 71.24|R: 70.54|R: 71.82|R: 74.73|R: 78.01|R: 81.02|R:  83.5|R: 84.99|R: 85.57|R: 86.34|R:      |\n",
      "|D: 71.47|D: 72.32|D: 72.74|D:  72.7|D: 72.91|D: 76.18|D: 79.88|D: 83.22|D: 85.79|D: 87.61|D: 88.74|D: 89.76|\n",
      "-------------------------------------------------------------------------------------------------------------\n",
      "|U: 70.43|U: 71.16|U: 71.24|U: 70.54|U: 71.82|U: 74.73|U: 78.01|U: 81.02|U:  83.5|U: 84.99|U: 85.57|U: 86.34|\n",
      "|L:      |L: 71.47|L: 72.32|L: 72.74|L:  72.7|L: 72.91|L: 76.18|L: 79.88|L: 83.22|L: 85.79|L: 87.61|L: 88.74|\n",
      "|R: 72.32|R: 72.74|R:  72.7|R: 72.91|R: 76.18|R: 79.88|R: 83.22|R: 85.79|R: 87.61|R: 88.74|R: 89.76|R:      |\n",
      "|D: 72.52|D: 73.51|D: 74.34|D: 75.07|D: 76.14|D: 78.92|D: 82.33|D: 85.44|D: 87.82|D: 89.59|D: 90.92|D: 92.06|\n",
      "-------------------------------------------------------------------------------------------------------------\n",
      "|U: 71.47|U: 72.32|U: 72.74|U:  72.7|U: 72.91|U: 76.18|U: 79.88|U: 83.22|U: 85.79|U: 87.61|U: 88.74|U: 89.76|\n",
      "|L:      |L: 72.52|L: 73.51|L: 74.34|L: 75.07|L: 76.14|L: 78.92|L: 82.33|L: 85.44|L: 87.82|L: 89.59|L: 90.92|\n",
      "|R: 73.51|R: 74.34|R: 75.07|R: 76.14|R: 78.92|R: 82.33|R: 85.44|R: 87.82|R: 89.59|R: 90.92|R: 92.06|R:      |\n",
      "|D: 73.58|D: 74.69|D: 75.87|D: 77.27|D: 79.14|D: 81.61|D: 84.48|D: 87.23|D: 89.45|D: 91.11|D: 92.44|D: 93.61|\n",
      "-------------------------------------------------------------------------------------------------------------\n",
      "|U: 72.52|U: 73.51|U: 74.34|U: 75.07|U: 76.14|U: 78.92|U: 82.33|U: 85.44|U: 87.82|U: 89.59|U: 90.92|U: 92.06|\n",
      "|L:      |L: 73.58|L: 74.69|L: 75.87|L: 77.27|L: 79.14|L: 81.61|L: 84.48|L: 87.23|L: 89.45|L: 91.11|L: 92.44|\n",
      "|R: 74.69|R: 75.87|R: 77.27|R: 79.14|R: 81.61|R: 84.48|R: 87.23|R: 89.45|R: 91.11|R: 92.44|R: 93.61|R:      |\n",
      "|D: 74.41|D: 75.68|D: 76.98|D: 78.38|D: 80.09|D: 82.34|D: 85.11|D: 87.98|D: 90.44|D: 92.29|D: 93.66|D:  94.8|\n",
      "-------------------------------------------------------------------------------------------------------------\n",
      "|U: 73.58|U: 74.69|U: 75.87|U: 77.27|U: 79.14|U: 81.61|U: 84.48|U: 87.23|U: 89.45|U: 91.11|U: 92.44|U: 93.61|\n",
      "|L:      |L: 74.41|L: 75.68|L: 76.98|L: 78.38|L: 80.09|L: 82.34|L: 85.11|L: 87.98|L: 90.44|L: 92.29|L: 93.66|\n",
      "|R: 75.68|R: 76.98|R: 78.38|R: 80.09|R: 82.34|R: 85.11|R: 87.98|R: 90.44|R: 92.29|R: 93.66|R:  94.8|R:      |\n",
      "|D: 73.57|D: 75.22|D: 76.85|D: 78.48|D: 79.64|D: 81.42|D: 84.56|D: 87.98|D: 90.98|D: 93.18|D:  94.7|D: 95.87|\n",
      "-------------------------------------------------------------------------------------------------------------\n",
      "|U: 74.41|U: 75.68|U: 76.98|U: 78.38|U: 80.09|U: 82.34|U: 85.11|U: 87.98|U: 90.44|U: 92.29|U: 93.66|U:  94.8|\n",
      "|L:      |L: 73.57|L: 75.22|L: 76.85|L: 78.48|L: 79.64|L: 81.42|L: 84.56|L: 87.98|L: 90.98|L: 93.18|L:  94.7|\n",
      "|R: 75.22|R: 76.85|R: 78.48|R: 79.64|R: 81.42|R: 84.56|R: 87.98|R: 90.98|R: 93.18|R:  94.7|R: 95.87|R:      |\n",
      "|D: 73.77|D: 76.07|D: 78.28|D: 80.34|D: 82.08|D:  82.7|D: 84.75|D: 88.47|D: 91.75|D: 94.12|D: 95.72|D: 96.91|\n",
      "-------------------------------------------------------------------------------------------------------------\n",
      "|U: 73.57|U: 75.22|U: 76.85|U: 78.48|U: 79.64|U: 81.42|U: 84.56|U: 87.98|U: 90.98|U: 93.18|U:  94.7|U: 95.87|\n",
      "|L:      |L: 73.77|L: 76.07|L: 78.28|L: 80.34|L: 82.08|L:  82.7|L: 84.75|L: 88.47|L: 91.75|L: 94.12|L: 95.72|\n",
      "|R: 76.07|R: 78.28|R: 80.34|R: 82.08|R:  82.7|R: 84.75|R: 88.47|R: 91.75|R: 94.12|R: 95.72|R: 96.91|R:      |\n",
      "|D: 73.78|D: 76.92|D: 79.89|D: 82.48|D: 84.74|D: 86.09|D: 87.57|D: 90.21|D: 93.13|D: 95.29|D: 96.79|D: 97.95|\n",
      "-------------------------------------------------------------------------------------------------------------\n",
      "|U: 73.77|U: 76.07|U: 78.28|U: 80.34|U: 82.08|U:  82.7|U: 84.75|U: 88.47|U: 91.75|U: 94.12|U: 95.72|U: 96.91|\n",
      "|L:      |L: 73.78|L: 76.92|L: 79.89|L: 82.48|L: 84.74|L: 86.09|L: 87.57|L: 90.21|L: 93.13|L: 95.29|L: 96.79|\n",
      "|R: 76.92|R: 79.89|R: 82.48|R: 84.74|R: 86.09|R: 87.57|R: 90.21|R: 93.13|R: 95.29|R: 96.79|R: 97.95|R:      |\n",
      "|D: 74.31|D: 78.19|D: 81.82|D: 84.85|D: 87.33|D: 89.17|D: 90.88|D: 92.83|D: 94.89|D: 96.59|D: 97.89|D: 98.98|\n",
      "-------------------------------------------------------------------------------------------------------------\n",
      "|U: 73.78|U: 76.92|U: 79.89|U: 82.48|U: 84.74|U: 86.09|U: 87.57|U: 90.21|U: 93.13|U: 95.29|U: 96.79|U: 97.95|\n",
      "|L:      |L: 74.31|L: 78.19|L: 81.82|L: 84.85|L: 87.33|L: 89.17|L: 90.88|L: 92.83|L: 94.89|L: 96.59|L: 97.89|\n",
      "|R: 78.19|R: 81.82|R: 84.85|R: 87.33|R: 89.17|R: 90.88|R: 92.83|R: 94.89|R: 96.59|R: 97.89|R: 98.98|R:      |\n",
      "|D: 75.94|D: 80.12|D: 84.01|D: 87.18|D: 89.61|D: 91.56|D: 93.32|D:  95.0|D: 96.52|D: 97.83|D: 98.96|D: 100.0|\n",
      "-------------------------------------------------------------------------------------------------------------\n",
      "|U: 74.31|U: 78.19|U: 81.82|U: 84.85|U: 87.33|U: 89.17|U: 90.88|U: 92.83|U: 94.89|U: 96.59|U: 97.89|        |\n",
      "|L:      |L: 75.94|L: 80.12|L: 84.01|L: 87.18|L: 89.61|L: 91.56|L: 93.32|L:  95.0|L: 96.52|L: 97.83|        |\n",
      "|R: 80.12|R: 84.01|R: 87.18|R: 89.61|R: 91.56|R: 93.32|R:  95.0|R: 96.52|R: 97.83|R: 98.96|R: 100.0|        |\n",
      "|D:      |D:      |D:      |D:      |D:      |D:      |D:      |D:      |D:      |D:      |D:      |        |\n",
      "-------------------------------------------------------------------------------------------------------------\n",
      "\n",
      "Strategy Pi\n",
      "-------------------------------------------------------------------------\n",
      "|  |  |  |  |     |     |     |     |     |  |  |  |  |  |  |  |  |  |  |\n",
      "|  |  |  |  |---->|---->|---->|---->|---->|  |  |  |  |  |  |  |  |  |  |\n",
      "|  v  |  v  |     |     |     |     |     |  v  |  v  |  v  |  v  |  v  |\n",
      "-------------------------------------------------------------------------\n",
      "|  |  |  |  |  |  |     |     |     |     |     |  |  |  |  |  |  |  |  |\n",
      "|  |  |  |  |  |  |---->|---->|---->|---->|---->|  |  |  |  |  |  |  |  |\n",
      "|  v  |  v  |  v  |     |     |     |     |     |  v  |  v  |  v  |  v  |\n",
      "-------------------------------------------------------------------------\n",
      "|  |  |  |  |  |  |  |  |     |     |     |     |  |  |  |  |  |  |  |  |\n",
      "|  |  |  |  |  |  |  |  |---->|---->|---->|---->|  |  |  |  |  |  |  |  |\n",
      "|  v  |  v  |  v  |  v  |     |     |     |     |  v  |  v  |  v  |  v  |\n",
      "-------------------------------------------------------------------------\n",
      "|  |  |  |  |  |  |  |  |     |     |     |     |  |  |  |  |  |  |  |  |\n",
      "|  |  |  |  |  |  |  |  |---->|---->|---->|---->|  |  |  |  |  |  |  |  |\n",
      "|  v  |  v  |  v  |  v  |     |     |     |     |  v  |  v  |  v  |  v  |\n",
      "-------------------------------------------------------------------------\n",
      "|  |  |  |  |  |  |  |  |  |  |     |     |     |     |  |  |  |  |  |  |\n",
      "|  |  |  |  |  |  |  |  |  |  |---->|---->|---->|---->|  |  |  |  |  |  |\n",
      "|  v  |  v  |  v  |  v  |  v  |     |     |     |     |  v  |  v  |  v  |\n",
      "-------------------------------------------------------------------------\n",
      "|     |     |     |     |     |     |     |     |     |     |  |  |  |  |\n",
      "|---->|---->|---->|---->|---->|---->|---->|---->|---->|---->|  |  |  |  |\n",
      "|     |     |     |     |     |     |     |     |     |     |  v  |  v  |\n",
      "-------------------------------------------------------------------------\n",
      "|     |     |     |     |     |     |     |     |     |     |     |  |  |\n",
      "|---->|---->|---->|---->|---->|---->|---->|---->|---->|---->|---->|  |  |\n",
      "|     |     |     |     |     |     |     |     |     |     |     |  v  |\n",
      "-------------------------------------------------------------------------\n",
      "|     |     |     |  |  |  |  |     |     |     |     |     |     |  |  |\n",
      "|---->|---->|---->|  |  |  |  |---->|---->|---->|---->|---->|---->|  |  |\n",
      "|     |     |     |  v  |  v  |     |     |     |     |     |     |  v  |\n",
      "-------------------------------------------------------------------------\n",
      "|     |     |     |  |  |  |  |  |  |     |     |     |     |     |  |  |\n",
      "|---->|---->|---->|  |  |  |  |  |  |---->|---->|---->|---->|---->|  |  |\n",
      "|     |     |     |  v  |  v  |  v  |     |     |     |     |     |  v  |\n",
      "-------------------------------------------------------------------------\n",
      "|     |     |     |  |  |  |  |  |  |  |  |     |     |     |     |  |  |\n",
      "|---->|---->|---->|  |  |  |  |  |  |  |  |---->|---->|---->|---->|  |  |\n",
      "|     |     |     |  v  |  v  |  v  |  v  |     |     |     |     |  v  |\n",
      "-------------------------------------------------------------------------\n",
      "|     |     |     |     |  |  |  |  |  |  |  |  |     |     |     |  |  |\n",
      "|---->|---->|---->|---->|  |  |  |  |  |  |  |  |---->|---->|---->|  |  |\n",
      "|     |     |     |     |  v  |  v  |  v  |  v  |     |     |     |  v  |\n",
      "-------------------------------------------------------------------------\n",
      "|     |     |     |     |     |     |     |     |     |     |     |     |\n",
      "|---->|---->|---->|---->|---->|---->|---->|---->|---->|---->|---->|     |\n",
      "|     |     |     |     |     |     |     |     |     |     |     |     |\n",
      "-------------------------------------------------------------------------\n",
      "\n",
      "Reward: 69.41\n"
     ]
    }
   ],
   "source": [
    "# Q-Algorithm code\n",
    "\n",
    "\n",
    "def run_experiment(N,epsilon=0.25,lam=1.0,num_trials=1000,display=False):\n",
    "       \n",
    "    # initialize grid world N\n",
    "    W = World[N]\n",
    "       \n",
    "    # use a seed to help with comparing results\n",
    "    seed(0)\n",
    "    \n",
    "    # initialize A\n",
    "    A = initialize_Actions(W)\n",
    "    \n",
    "    # initialize Q\n",
    "    Q = initialize_Q_table(W, A)\n",
    "    \n",
    "    for _ in range(num_trials):\n",
    "    \n",
    "        # initialize the current state s to the start state\n",
    "        s = W.start_state\n",
    "        \n",
    "        # while s is not a terminal state\n",
    "        while s not in W.terminal_states:\n",
    "            #  determine the action a from s using the policy Pi       \n",
    "            a = Pi(A, Q, s, epsilon)\n",
    "            #  determine the next state s1 given the action a\n",
    "            s1 = goto_state(s, a)\n",
    "            #  determine the reward and the best move in s1\n",
    "            reward = W.R(s1)\n",
    "            best_next_move = best_move(A, Q, s1)\n",
    "            #  update Q-Table with the new Q-value for current state s = sum of reward in s1 and \n",
    "            #       Q-value of best move in s1;\n",
    "            Q[(s, a)] = reward + Q[(s1, best_next_move)]\n",
    "\n",
    "            #  update epsilon, reduced in each successive move by lam (if lam < 1 this means\n",
    "            #      you will explore less and less as the trial goes on)\n",
    "            epsilon *= lam\n",
    "            #  update current state to s1\n",
    "            s = s1\n",
    "            \n",
    "#     print(W.start_state)\n",
    "#     print(s)\n",
    "    # calculate the cumulative reward of the path given by the strategy implied by the Q-table\n",
    "    \n",
    "    s = W.start_state\n",
    "    cumulative_reward = 0\n",
    "    visited = set()\n",
    "    \n",
    "    cycle = False\n",
    "    while s not in W.terminal_states:\n",
    "        if s in visited:\n",
    "            cycle = True\n",
    "            break\n",
    "        visited.add(s)\n",
    "        a = best_move(A, Q, s)\n",
    "        s = goto_state(s, a)\n",
    "        cumulative_reward += W.R(s)\n",
    " \n",
    "        \n",
    "    # show all the data structures if you want\n",
    "    \n",
    "    if display:    \n",
    "        W.display_heat_map()\n",
    "        print()\n",
    "        W.print_rewards()\n",
    "        print()\n",
    "        print_Q_table(W,A,Q)   \n",
    "        print()\n",
    "        print_strategy(W,A,Q)\n",
    "        print()\n",
    "    \n",
    "    if cycle:\n",
    "        return 0\n",
    "    else:\n",
    "        return cumulative_reward\n",
    "# test\n",
    "print(\"Reward:\",run_experiment(4, num_trials=300, display=True, epsilon=1.0, lam=1.0))"
   ]
  },
  {
   "cell_type": "markdown",
   "metadata": {},
   "source": [
    "## Running experiments\n",
    "\n",
    "What parameters will solve the problem in the fewest number of trials?\n",
    "      \n",
    "\"Solving\" the problem means learning a \"steady-state\" strategy, meaning that if we increase\n",
    "the number of trials, the strategy does not change.  The agent may accidentally hit on \n",
    "an optimal strategy, but continuing to search may \"unlearn\" the solution. The system\n",
    "can only be said to have learned the optimal strategy only if it does not change as the number\n",
    "of trials is increased. "
   ]
  },
  {
   "cell_type": "markdown",
   "metadata": {},
   "source": [
    "# World 0\n",
    "I wrote a function, optimize(), to perform grid search on the parameters and find the ones that yield the best results.\n",
    "\n",
    "For World 0, all sets of parameters manage to find max reward in at most 3 trials. Half manage to find it on the very first trial. I'm surprised that we don't find the optimal policy on the first trial at any epsilon=0; in a 2x2 world, any agent should be finding the win state immediately after any step, and with no random exploration, it should, theoretically, immediately pick the winning state.\n",
    "\n",
    "The optimal parameters in this case are fairly meaningless, as about half of the parameter pairs achieve the same result."
   ]
  },
  {
   "cell_type": "code",
   "execution_count": 1050,
   "metadata": {
    "code_folding": []
   },
   "outputs": [
    {
     "name": "stdout",
     "output_type": "stream",
     "text": [
      "  Epsilon    Lambda    Steady State Trials    Reward\n",
      "---------  --------  ---------------------  --------\n",
      "     0.00      0.00                      2        99\n",
      "     0.00      0.20                      2        99\n",
      "     0.00      0.40                      2        99\n",
      "     0.00      0.60                      2        99\n",
      "     0.00      0.80                      2        99\n",
      "     0.00      1.00                      2        99\n",
      "     0.20      0.00                      2        99\n",
      "     0.20      0.20                      2        99\n",
      "     0.20      0.40                      2        99\n",
      "     0.20      0.60                      2        99\n",
      "     0.20      0.80                      2        99\n",
      "     0.20      1.00                      2        99\n",
      "     0.40      0.00                      2        99\n",
      "     0.40      0.20                      2        99\n",
      "     0.40      0.40                      2        99\n",
      "     0.40      0.60                      2        99\n",
      "     0.40      0.80                      2        99\n",
      "     0.40      1.00                      2        99\n",
      "     0.60      0.00                      0        99\n",
      "     0.60      0.20                      0        99\n",
      "     0.60      0.40                      0        99\n",
      "     0.60      0.60                      0        99\n",
      "     0.60      0.80                      2        99\n",
      "     0.60      1.00                      2        99\n",
      "     0.80      0.00                      0        99\n",
      "     0.80      0.20                      0        99\n",
      "     0.80      0.40                      0        99\n",
      "     0.80      0.60                      0        99\n",
      "     0.80      0.80                      2        99\n",
      "     0.80      1.00                      2        99\n",
      "     1.00      0.00                      0        99\n",
      "     1.00      0.20                      0        99\n",
      "     1.00      0.40                      0        99\n",
      "     1.00      0.60                      0        99\n",
      "     1.00      0.80                      2        99\n",
      "     1.00      1.00                      2        99\n",
      "\n",
      "Optimal epsilon: 0.6000000000000001\n",
      "Optimal lambda: 0.0\n"
     ]
    },
    {
     "data": {
      "image/png": "[encoded data removed]",
      "text/plain": [
       "<Figure size 800x400 with 1 Axes>"
      ]
     },
     "metadata": {},
     "output_type": "display_data"
    },
    {
     "name": "stdout",
     "output_type": "stream",
     "text": [
      "Reward: 99\n",
      "Optimal epsilon: 0.6000000000000001\n",
      "Optimal lambda: 0.0\n"
     ]
    }
   ],
   "source": [
    "# Plotting the rewards to find smallest number of trials which produce a steady-state maximum reward\n",
    "\n",
    "from tabulate import tabulate\n",
    "\n",
    "def plot_rewards(N,lower_bound,upper_bound,epsilon=0.25,lam=1.0, display=True):\n",
    "    \n",
    "    X = range(lower_bound,upper_bound+1)\n",
    "\n",
    "    Y = [run_experiment(N,epsilon=epsilon,lam=lam,num_trials=k,display=False) for k in X]\n",
    "#     Y = []\n",
    "#     for k in X:\n",
    "#         result = run_experiment(N, epsilon=epsilon, lam=lam, num_trials=k, display=False)\n",
    "#         print(result)\n",
    "#         Y.append(result)\n",
    "    if display:\n",
    "        plt.figure(figsize=(8,4))\n",
    "        plt.title('Rewards Exploring Grid World '+str(N))\n",
    "        plt.plot(X,Y)\n",
    "        plt.scatter(X,Y,marker='.')\n",
    "        plt.show()\n",
    "\n",
    "        print(\"Reward:\",Y[-1])\n",
    "    \n",
    "    # under assumption that steady state was reached by the upper_bound, \n",
    "    # find the first time that value was found in this range\n",
    "    steady_state_trials = lower_bound\n",
    "    for k in range(len(Y)-1,-1, -1):\n",
    "        if Y[k] < Y[-1]:\n",
    "            steady_state_trials = X[k + 1]\n",
    "            if display:\n",
    "                print(\"Steady state found at\",steady_state_trials,\"trials.\")\n",
    "            break\n",
    "            \n",
    "    return steady_state_trials, Y[-1]\n",
    "# example\n",
    "\n",
    "def optimize(N, lower_bound, upper_bound, print_each=True):\n",
    "    # Define the range of epsilon and lambda values to search over\n",
    "    epsilon_values = np.arange(0, 1.2, 0.2)\n",
    "    lambda_values = np.arange(0, 1.2, 0.2)\n",
    "\n",
    "    # Initialize variables to keep track of the best parameter combination and the fastest steady state\n",
    "    best_epsilon = None\n",
    "    best_lambda = None\n",
    "    fastest_steady = float('inf')\n",
    "    highest_reward = float('-inf')\n",
    "\n",
    "    # Create a list to store the results for each combination of epsilon and lambda values\n",
    "    results = []\n",
    "\n",
    "    # Iterate over all combinations of epsilon and lambda values\n",
    "    for epsilon in epsilon_values:\n",
    "        for lam in lambda_values:\n",
    "            # Run the plot_rewards function and get the steady state\n",
    "            steady, reward = plot_rewards(N, lower_bound, upper_bound, epsilon=epsilon, lam=lam, display=print_each)\n",
    "\n",
    "            # Store the results for this combination\n",
    "            results.append((epsilon, lam, steady, reward))\n",
    "\n",
    "            # If the current reward is higher than the highest one found so far, update the best parameters and the highest reward\n",
    "            if reward > highest_reward:\n",
    "                highest_reward = reward\n",
    "                fastest_steady = steady\n",
    "                best_epsilon = epsilon\n",
    "                best_lambda = lam\n",
    "            # If the current reward is equal to the highest one found so far, check if the steady state is faster and update the best parameters if needed\n",
    "            elif reward == highest_reward and steady < fastest_steady:\n",
    "                fastest_steady = steady\n",
    "                best_epsilon = epsilon\n",
    "                best_lambda = lam\n",
    "\n",
    "    # Print the table of results\n",
    "    headers = ['Epsilon', 'Lambda', 'Steady State Trials', 'Reward']\n",
    "    print(tabulate(results, headers=headers, floatfmt=\".2f\"))\n",
    "\n",
    "    # Return the best parameter combination\n",
    "    print()\n",
    "    print(\"Optimal epsilon:\", best_epsilon)\n",
    "    print(\"Optimal lambda:\", best_lambda)\n",
    "    plot_rewards(N, lower_bound, upper_bound, best_epsilon, best_lambda)\n",
    "    return best_epsilon, best_lambda\n",
    "\n",
    "best_epsilon, best_lambda = optimize(0, 0, 200, print_each=False)\n",
    "print(\"Optimal epsilon:\", best_epsilon)\n",
    "print(\"Optimal lambda:\", best_lambda)\n",
    "\n",
    "# plot_rewards(0,0,100)\n",
    "# plot_rewards(0,0,100, epsilon=0)\n",
    "# plot_rewards(0,0,100, epsilon=1)"
   ]
  },
  {
   "cell_type": "markdown",
   "metadata": {},
   "source": [
    "# Discussion on world 0 is above the code cell"
   ]
  },
  {
   "cell_type": "markdown",
   "metadata": {},
   "source": [
    "# World 1\n",
    "Optimal epsilon: 0.2\n",
    "Optimal lambda: 0.8\n",
    "\n",
    "We find that a moderately low, slowly decreasing exploration rate works best in this case, but not significantly better. It's hard to make any meaningful judgements on why these parameters work better; the world is really small and it could just be due to randomness. Interestingly, lambda=1.0 seems to perform the worst here by far. This is probably because the world is very small and has one optimal path, so it we quickly get the optimal policy and exploring further only increases the chance that one of the random explorations will lead to a losing state."
   ]
  },
  {
   "cell_type": "code",
   "execution_count": 1051,
   "metadata": {
    "code_folding": []
   },
   "outputs": [
    {
     "name": "stdout",
     "output_type": "stream",
     "text": [
      "  Epsilon    Lambda    Steady State Trials    Reward\n",
      "---------  --------  ---------------------  --------\n",
      "     0.00      0.00                      4        97\n",
      "     0.00      0.20                      4        97\n",
      "     0.00      0.40                      4        97\n",
      "     0.00      0.60                      4        97\n",
      "     0.00      0.80                      4        97\n",
      "     0.00      1.00                      4        97\n",
      "     0.20      0.00                      4        97\n",
      "     0.20      0.20                      4        97\n",
      "     0.20      0.40                      4        97\n",
      "     0.20      0.60                      4        97\n",
      "     0.20      0.80                      3        97\n",
      "     0.20      1.00                      5        97\n",
      "     0.40      0.00                      4        97\n",
      "     0.40      0.20                      4        97\n",
      "     0.40      0.40                      4        97\n",
      "     0.40      0.60                      4        97\n",
      "     0.40      0.80                      4        97\n",
      "     0.40      1.00                      7        97\n",
      "     0.60      0.00                      4        97\n",
      "     0.60      0.20                      4        97\n",
      "     0.60      0.40                      4        97\n",
      "     0.60      0.60                      4        97\n",
      "     0.60      0.80                      4        97\n",
      "     0.60      1.00                      6        97\n",
      "     0.80      0.00                      4        97\n",
      "     0.80      0.20                      4        97\n",
      "     0.80      0.40                      4        97\n",
      "     0.80      0.60                      4        97\n",
      "     0.80      0.80                      4        97\n",
      "     0.80      1.00                     21        97\n",
      "     1.00      0.00                      4        97\n",
      "     1.00      0.20                      4        97\n",
      "     1.00      0.40                      4        97\n",
      "     1.00      0.60                      4        97\n",
      "     1.00      0.80                      3        97\n",
      "     1.00      1.00                     22        97\n",
      "\n",
      "Optimal epsilon: 0.2\n",
      "Optimal lambda: 0.8\n"
     ]
    },
    {
     "data": {
      "image/png": "[encoded data removed]",
      "text/plain": [
       "<Figure size 800x400 with 1 Axes>"
      ]
     },
     "metadata": {},
     "output_type": "display_data"
    },
    {
     "name": "stdout",
     "output_type": "stream",
     "text": [
      "Reward: 97\n",
      "Steady state found at 3 trials.\n",
      "Optimal epsilon: 0.2\n",
      "Optimal lambda: 0.8\n"
     ]
    }
   ],
   "source": [
    "best_epsilon, best_lambda = optimize(1, 0, 200, print_each=False)\n",
    "print(\"Optimal epsilon:\", best_epsilon)\n",
    "print(\"Optimal lambda:\", best_lambda)"
   ]
  },
  {
   "cell_type": "markdown",
   "metadata": {},
   "source": [
    "# World 2\n",
    "Optimal epsilon: 0.4\n",
    "Optimal lambda: 1.0\n",
    "\n",
    "This world is interesting because 2 pairs of parameters yield a slightly higher reward than all the others, even though other parameters reach a steady state sooner at a slightly lower reward. Specifically, these two sets of parameters manage to find the only optimal path, while all the others make a mistake that they later have to correct for, with a total loss of 2 points. Both of the winning sets of parameters them have lambda=1.0. At the same time, in all cases, a constant exploration rate finds a steady state significantly later, for reasons I outlined in the previous comment. I'd guess that having a higher exploration rate later on helps correct these errors."
   ]
  },
  {
   "cell_type": "code",
   "execution_count": 1052,
   "metadata": {
    "code_folding": []
   },
   "outputs": [
    {
     "name": "stdout",
     "output_type": "stream",
     "text": [
      "  Epsilon    Lambda    Steady State Trials    Reward\n",
      "---------  --------  ---------------------  --------\n",
      "     0.00      0.00                     33        86\n",
      "     0.00      0.20                     33        86\n",
      "     0.00      0.40                     33        86\n",
      "     0.00      0.60                     33        86\n",
      "     0.00      0.80                     33        86\n",
      "     0.00      1.00                     33        86\n",
      "     0.20      0.00                     33        86\n",
      "     0.20      0.20                     33        86\n",
      "     0.20      0.40                     33        86\n",
      "     0.20      0.60                     33        86\n",
      "     0.20      0.80                     33        86\n",
      "     0.20      1.00                     42        86\n",
      "     0.40      0.00                     33        86\n",
      "     0.40      0.20                     33        86\n",
      "     0.40      0.40                     33        86\n",
      "     0.40      0.60                     33        86\n",
      "     0.40      0.80                     30        86\n",
      "     0.40      1.00                     48        88\n",
      "     0.60      0.00                     33        86\n",
      "     0.60      0.20                     33        86\n",
      "     0.60      0.40                     33        86\n",
      "     0.60      0.60                     34        86\n",
      "     0.60      0.80                     30        86\n",
      "     0.60      1.00                     90        88\n",
      "     0.80      0.00                     33        86\n",
      "     0.80      0.20                     33        86\n",
      "     0.80      0.40                     33        86\n",
      "     0.80      0.60                     34        84\n",
      "     0.80      0.80                     32        84\n",
      "     0.80      1.00                    149        86\n",
      "     1.00      0.00                     33        86\n",
      "     1.00      0.20                     33        86\n",
      "     1.00      0.40                     33        86\n",
      "     1.00      0.60                     34        84\n",
      "     1.00      0.80                     32        84\n",
      "     1.00      1.00                     11         0\n",
      "\n",
      "Optimal epsilon: 0.4\n",
      "Optimal lambda: 1.0\n"
     ]
    },
    {
     "data": {
      "image/png": "[encoded data removed]",
      "text/plain": [
       "<Figure size 800x400 with 1 Axes>"
      ]
     },
     "metadata": {},
     "output_type": "display_data"
    },
    {
     "name": "stdout",
     "output_type": "stream",
     "text": [
      "Reward: 88\n",
      "Steady state found at 48 trials.\n",
      "Optimal epsilon: 0.4\n",
      "Optimal lambda: 1.0\n"
     ]
    }
   ],
   "source": [
    "best_epsilon, best_lambda = optimize(2, 0, 200, print_each=False)\n",
    "print(\"Optimal epsilon:\", best_epsilon)\n",
    "print(\"Optimal lambda:\", best_lambda)"
   ]
  },
  {
   "cell_type": "markdown",
   "metadata": {},
   "source": [
    "# World 3\n",
    "Best pairs, all steady at 57 trials:\n",
    "\n",
    "Epsilon, Lambda:\n",
    "[0.2, 0.8] \n",
    "[1.0, 0.4] \n",
    "[1.0, 0.6]\n",
    "[1.0, 0.8]\n",
    "\n",
    "A high starting exploration rate seems to generally do better, but only slightly. This world is a maze with one path, which means the biggest threat is cycles. High exploration rates at the start probably help the policy get out of cycles more often. At the same time, there are losing states at almost every move, so we're also risking these more often in the initial trials, but it seems like the tradeoff is overall worth it. We also see that 0.2, 0.8 performs well."
   ]
  },
  {
   "cell_type": "code",
   "execution_count": 1053,
   "metadata": {
    "code_folding": []
   },
   "outputs": [
    {
     "name": "stdout",
     "output_type": "stream",
     "text": [
      "  Epsilon    Lambda    Steady State Trials    Reward\n",
      "---------  --------  ---------------------  --------\n",
      "     0.00      0.00                     58        73\n",
      "     0.00      0.20                     58        73\n",
      "     0.00      0.40                     58        73\n",
      "     0.00      0.60                     58        73\n",
      "     0.00      0.80                     58        73\n",
      "     0.00      1.00                     58        73\n",
      "     0.20      0.00                     58        73\n",
      "     0.20      0.20                     58        73\n",
      "     0.20      0.40                     58        73\n",
      "     0.20      0.60                     58        73\n",
      "     0.20      0.80                     57        73\n",
      "     0.20      1.00                    162         0\n",
      "     0.40      0.00                     58        73\n",
      "     0.40      0.20                     58        73\n",
      "     0.40      0.40                     58        73\n",
      "     0.40      0.60                     58        73\n",
      "     0.40      0.80                     59        73\n",
      "     0.40      1.00                    137         0\n",
      "     0.60      0.00                     58        73\n",
      "     0.60      0.20                     58        73\n",
      "     0.60      0.40                     58        73\n",
      "     0.60      0.60                     59        73\n",
      "     0.60      0.80                     59        73\n",
      "     0.60      1.00                    180         0\n",
      "     0.80      0.00                     58        73\n",
      "     0.80      0.20                     58        73\n",
      "     0.80      0.40                     59        73\n",
      "     0.80      0.60                     59        73\n",
      "     0.80      0.80                     59        73\n",
      "     0.80      1.00                    144         0\n",
      "     1.00      0.00                     58        73\n",
      "     1.00      0.20                     58        73\n",
      "     1.00      0.40                     57        73\n",
      "     1.00      0.60                     57        73\n",
      "     1.00      0.80                     57        73\n",
      "     1.00      1.00                      0      -107\n",
      "\n",
      "Optimal epsilon: 0.2\n",
      "Optimal lambda: 0.8\n"
     ]
    },
    {
     "data": {
      "image/png": "[encoded data removed]",
      "text/plain": [
       "<Figure size 800x400 with 1 Axes>"
      ]
     },
     "metadata": {},
     "output_type": "display_data"
    },
    {
     "name": "stdout",
     "output_type": "stream",
     "text": [
      "Reward: 73\n",
      "Steady state found at 57 trials.\n",
      "Optimal epsilon: 0.2\n",
      "Optimal lambda: 0.8\n"
     ]
    }
   ],
   "source": [
    "best_epsilon, best_lambda = optimize(3, 0, 200, print_each=False)\n",
    "print(\"Optimal epsilon:\", best_epsilon)\n",
    "print(\"Optimal lambda:\", best_lambda)"
   ]
  },
  {
   "cell_type": "markdown",
   "metadata": {},
   "source": [
    "# World 4\n",
    "This is a big world with no losing states, and we see that constant 100% exploration (1.0, 1,0) somehow gets the highest reward and also arrives at a steady rate the fastest by far at 25 trials. I'm guessing that this world is bad for greedy exploitation because the variable rewards deceptively distract from the optimal long-term behavior. By simply never looking at the rewards at all, the policy rather quickly arrives at the optimal path. I honestly have no idea how this happens in only 25 trials. All the other parameter pairs with lambda=1.0 also perform better, even if they always reach a steady state much later. Constant exploration helps iron out the suboptimal paths.\n",
    "\n",
    "Overall, the immediate rewards appear to be deceptive enough that they always prevent arriving at the true optimal policy, unless we keep exploring in later trials."
   ]
  },
  {
   "cell_type": "code",
   "execution_count": 1054,
   "metadata": {
    "code_folding": []
   },
   "outputs": [
    {
     "name": "stdout",
     "output_type": "stream",
     "text": [
      "  Epsilon    Lambda    Steady State Trials    Reward\n",
      "---------  --------  ---------------------  --------\n",
      "     0.00      0.00                     76     63.46\n",
      "     0.00      0.20                     76     63.46\n",
      "     0.00      0.40                     76     63.46\n",
      "     0.00      0.60                     76     63.46\n",
      "     0.00      0.80                     76     63.46\n",
      "     0.00      1.00                     76     63.46\n",
      "     0.20      0.00                     76     63.46\n",
      "     0.20      0.20                     76     63.46\n",
      "     0.20      0.40                     76     63.46\n",
      "     0.20      0.60                     76     63.46\n",
      "     0.20      0.80                     76     63.46\n",
      "     0.20      1.00                    142     67.44\n",
      "     0.40      0.00                     76     63.46\n",
      "     0.40      0.20                     76     63.46\n",
      "     0.40      0.40                     76     63.46\n",
      "     0.40      0.60                     76     63.46\n",
      "     0.40      0.80                     76     63.46\n",
      "     0.40      1.00                    197     69.41\n",
      "     0.60      0.00                     76     63.46\n",
      "     0.60      0.20                     76     63.46\n",
      "     0.60      0.40                     76     63.46\n",
      "     0.60      0.60                     76     63.46\n",
      "     0.60      0.80                     86     63.78\n",
      "     0.60      1.00                     94     69.41\n",
      "     0.80      0.00                     76     63.46\n",
      "     0.80      0.20                     76     63.46\n",
      "     0.80      0.40                     76     63.46\n",
      "     0.80      0.60                     77     68.92\n",
      "     0.80      0.80                     85     67.84\n",
      "     0.80      1.00                     65     69.41\n",
      "     1.00      0.00                     76     63.46\n",
      "     1.00      0.20                     76     63.46\n",
      "     1.00      0.40                     77     68.92\n",
      "     1.00      0.60                     77     68.92\n",
      "     1.00      0.80                     80     67.58\n",
      "     1.00      1.00                     25     69.41\n",
      "\n",
      "Optimal epsilon: 1.0\n",
      "Optimal lambda: 1.0\n"
     ]
    },
    {
     "data": {
      "image/png": "[encoded data removed]",
      "text/plain": [
       "<Figure size 800x400 with 1 Axes>"
      ]
     },
     "metadata": {},
     "output_type": "display_data"
    },
    {
     "name": "stdout",
     "output_type": "stream",
     "text": [
      "Reward: 69.41\n",
      "Steady state found at 25 trials.\n",
      "Optimal epsilon: 1.0\n",
      "Optimal lambda: 1.0\n"
     ]
    }
   ],
   "source": [
    "best_epsilon, best_lambda = optimize(4, 0, 200, print_each=False)\n",
    "print(\"Optimal epsilon:\", best_epsilon)\n",
    "print(\"Optimal lambda:\", best_lambda)"
   ]
  },
  {
   "cell_type": "markdown",
   "metadata": {},
   "source": [
    "# World 5\n",
    "This is also a maze without lose states like the previous world, but it's harder. Again, we can see that constant exploration rates are the only ones that manage to get the maximum reward. I'm realizing now - and this also applies to the previous world - that going down one long path of a maze is rewarding enough that it is likely to be exploited repeatedly, and the \"walls\" are \"thin\" enough that they don't affect the Q values near the start of the path enough to prevent the agent from exploiting a suboptimal path. The difference between two completely paths is often just one move, and that is the move the policy needs to \"explore\" in to have a chance at finding the optimal path. If exploration rates quickly become lower as we go on, the chance of exploring at the exact right time drops dramatically.\n",
    "\n",
    "Again- we only achieve optimal policy if exploration is constant throughout all trials, regardless of the epsilon. Even at epsilon=0.2, there is a reasonable chance of exploration of every move, and with 140 trials, this manages to stack up to an optimal path.\n",
    "\n",
    "Disregarding rewards altogether gets us the optimal path in 10 trials. This makes sense: just because there is a path in a maze wouldn't at all suggest to you that it's the right path. Near the start of the maze especially, it's entirely random which path is the best, regardless of which ones capture your intuition. So we need to ensure that we're exploring all possible paths, and this only happens if we keep exploring indefinitely."
   ]
  },
  {
   "cell_type": "code",
   "execution_count": 1055,
   "metadata": {
    "code_folding": []
   },
   "outputs": [
    {
     "name": "stdout",
     "output_type": "stream",
     "text": [
      "  Epsilon    Lambda    Steady State Trials    Reward\n",
      "---------  --------  ---------------------  --------\n",
      "     0.00      0.00                     51     28.80\n",
      "     0.00      0.20                     51     28.80\n",
      "     0.00      0.40                     51     28.80\n",
      "     0.00      0.60                     51     28.80\n",
      "     0.00      0.80                     51     28.80\n",
      "     0.00      1.00                     51     28.80\n",
      "     0.20      0.00                     51     28.80\n",
      "     0.20      0.20                     51     28.80\n",
      "     0.20      0.40                     51     28.80\n",
      "     0.20      0.60                     51     28.80\n",
      "     0.20      0.80                     51     28.80\n",
      "     0.20      1.00                    140     36.30\n",
      "     0.40      0.00                     51     28.80\n",
      "     0.40      0.20                     51     28.80\n",
      "     0.40      0.40                     50     38.00\n",
      "     0.40      0.60                     50     38.00\n",
      "     0.40      0.80                     50     38.00\n",
      "     0.40      1.00                     82     44.30\n",
      "     0.60      0.00                     51     28.80\n",
      "     0.60      0.20                     51     28.80\n",
      "     0.60      0.40                     50     38.00\n",
      "     0.60      0.60                     50     38.00\n",
      "     0.60      0.80                     50     38.00\n",
      "     0.60      1.00                     74     40.30\n",
      "     0.80      0.00                     51     28.80\n",
      "     0.80      0.20                     50     38.00\n",
      "     0.80      0.40                     50     38.00\n",
      "     0.80      0.60                     50     38.00\n",
      "     0.80      0.80                     50     38.00\n",
      "     0.80      1.00                     78     44.30\n",
      "     1.00      0.00                     51     28.80\n",
      "     1.00      0.20                     50     38.00\n",
      "     1.00      0.40                     50     38.00\n",
      "     1.00      0.60                     50     38.00\n",
      "     1.00      0.80                     50     38.00\n",
      "     1.00      1.00                     10     44.30\n",
      "\n",
      "Optimal epsilon: 1.0\n",
      "Optimal lambda: 1.0\n"
     ]
    },
    {
     "data": {
      "image/png": "[encoded data removed]",
      "text/plain": [
       "<Figure size 800x400 with 1 Axes>"
      ]
     },
     "metadata": {},
     "output_type": "display_data"
    },
    {
     "name": "stdout",
     "output_type": "stream",
     "text": [
      "Reward: 44.3\n",
      "Steady state found at 10 trials.\n",
      "Optimal epsilon: 1.0\n",
      "Optimal lambda: 1.0\n"
     ]
    }
   ],
   "source": [
    "best_epsilon, best_lambda = optimize(5, 0, 200, print_each=False)\n",
    "print(\"Optimal epsilon:\", best_epsilon)\n",
    "print(\"Optimal lambda:\", best_lambda)"
   ]
  },
  {
   "cell_type": "markdown",
   "metadata": {},
   "source": [
    "# World 6\n",
    "Maze again, but this time with losing states instead of just slightly less rewarding states as walls. Here, the walls are bad enough that we never exploit them. There are only two places where the paths split up into the wrong and right paths, and one place where the path splits into the winning path and a slightly worse winning path.\n",
    "\n",
    "0.6, 0.8 lands at the steady state the soonest. This appears to be enough exploration for the small world that we rule out the worse paths the soonest."
   ]
  },
  {
   "cell_type": "code",
   "execution_count": 1056,
   "metadata": {
    "code_folding": []
   },
   "outputs": [
    {
     "name": "stdout",
     "output_type": "stream",
     "text": [
      "  Epsilon    Lambda    Steady State Trials    Reward\n",
      "---------  --------  ---------------------  --------\n",
      "     0.00      0.00                     32        92\n",
      "     0.00      0.20                     32        92\n",
      "     0.00      0.40                     32        92\n",
      "     0.00      0.60                     32        92\n",
      "     0.00      0.80                     32        92\n",
      "     0.00      1.00                     32        92\n",
      "     0.20      0.00                     32        92\n",
      "     0.20      0.20                     32        92\n",
      "     0.20      0.40                     32        92\n",
      "     0.20      0.60                     32        92\n",
      "     0.20      0.80                     33        92\n",
      "     0.20      1.00                     60        92\n",
      "     0.40      0.00                     32        92\n",
      "     0.40      0.20                     32        92\n",
      "     0.40      0.40                     32        92\n",
      "     0.40      0.60                     32        92\n",
      "     0.40      0.80                     32        92\n",
      "     0.40      1.00                    159        92\n",
      "     0.60      0.00                     32        92\n",
      "     0.60      0.20                     32        92\n",
      "     0.60      0.40                     32        92\n",
      "     0.60      0.60                     32        92\n",
      "     0.60      0.80                     31        92\n",
      "     0.60      1.00                     94         0\n",
      "     0.80      0.00                     32        92\n",
      "     0.80      0.20                     32        92\n",
      "     0.80      0.40                     32        92\n",
      "     0.80      0.60                     32        92\n",
      "     0.80      0.80                     34        92\n",
      "     0.80      1.00                    186         0\n",
      "     1.00      0.00                     32        92\n",
      "     1.00      0.20                     32        92\n",
      "     1.00      0.40                     32        92\n",
      "     1.00      0.60                     32        92\n",
      "     1.00      0.80                     34        92\n",
      "     1.00      1.00                      0      -106\n",
      "\n",
      "Optimal epsilon: 0.6000000000000001\n",
      "Optimal lambda: 0.8\n"
     ]
    },
    {
     "data": {
      "image/png": "[encoded data removed]",
      "text/plain": [
       "<Figure size 800x400 with 1 Axes>"
      ]
     },
     "metadata": {},
     "output_type": "display_data"
    },
    {
     "name": "stdout",
     "output_type": "stream",
     "text": [
      "Reward: 92\n",
      "Steady state found at 31 trials.\n",
      "Optimal epsilon: 0.6000000000000001\n",
      "Optimal lambda: 0.8\n"
     ]
    }
   ],
   "source": [
    "best_epsilon, best_lambda = optimize(6, 0, 200, print_each=False)\n",
    "print(\"Optimal epsilon:\", best_epsilon)\n",
    "print(\"Optimal lambda:\", best_lambda)"
   ]
  },
  {
   "cell_type": "markdown",
   "metadata": {},
   "source": [
    "# World 7\n",
    "Optimal epsilon: 0.8\n",
    "\n",
    "Optimal lambda: 0.8\n",
    "\n",
    "Similar maze to world 6, but going down the wrong paths is more costly because they further diverge more often. Also there are more wrong paths. High initial exploration lets the agent rule out dead-end paths. This sets up the Q values well for later trials, where the agent can venture down the high Q-value path and reach the winning state.\n",
    "\n",
    "If we have epsilon=1.0 and lambda=0.8, the initial exploration becomes too random and doesn't manage to set up the Q values soon enough to guarantee safe winning exploitation later on. In fact, the difference between these is only 1 trial, which is most likely the very first trial, where the agent is slightly more likely to run into a wall."
   ]
  },
  {
   "cell_type": "code",
   "execution_count": 1085,
   "metadata": {
    "code_folding": []
   },
   "outputs": [
    {
     "name": "stdout",
     "output_type": "stream",
     "text": [
      "  Epsilon    Lambda    Steady State Trials    Reward\n",
      "---------  --------  ---------------------  --------\n",
      "     0.00      0.00                     43        88\n",
      "     0.00      0.20                     43        88\n",
      "     0.00      0.40                     43        88\n",
      "     0.00      0.60                     43        88\n",
      "     0.00      0.80                     43        88\n",
      "     0.00      1.00                     43        88\n",
      "     0.20      0.00                     43        88\n",
      "     0.20      0.20                     43        88\n",
      "     0.20      0.40                     43        88\n",
      "     0.20      0.60                     43        88\n",
      "     0.20      0.80                     44        88\n",
      "     0.20      1.00                    100        88\n",
      "     0.40      0.00                     43        88\n",
      "     0.40      0.20                     43        88\n",
      "     0.40      0.40                     43        88\n",
      "     0.40      0.60                     43        88\n",
      "     0.40      0.80                     44        88\n",
      "     0.40      1.00                    121         0\n",
      "     0.60      0.00                     43        88\n",
      "     0.60      0.20                     43        88\n",
      "     0.60      0.40                     43        88\n",
      "     0.60      0.60                     43        88\n",
      "     0.60      0.80                     44        88\n",
      "     0.60      1.00                    183         0\n",
      "     0.80      0.00                     43        88\n",
      "     0.80      0.20                     43        88\n",
      "     0.80      0.40                     43        88\n",
      "     0.80      0.60                     43        88\n",
      "     0.80      0.80                     42        88\n",
      "     0.80      1.00                    116         0\n",
      "     1.00      0.00                     43        88\n",
      "     1.00      0.20                     43        88\n",
      "     1.00      0.40                     43        88\n",
      "     1.00      0.60                     42        88\n",
      "     1.00      0.80                     43        88\n",
      "     1.00      1.00                      0      -105\n",
      "\n",
      "Optimal epsilon: 0.8\n",
      "Optimal lambda: 0.8\n"
     ]
    },
    {
     "data": {
      "image/png": "[encoded data removed]",
      "text/plain": [
       "<Figure size 800x400 with 1 Axes>"
      ]
     },
     "metadata": {},
     "output_type": "display_data"
    },
    {
     "name": "stdout",
     "output_type": "stream",
     "text": [
      "Reward: 88\n",
      "Steady state found at 42 trials.\n",
      "Optimal epsilon: 0.8\n",
      "Optimal lambda: 0.8\n"
     ]
    }
   ],
   "source": [
    "best_epsilon, best_lambda = optimize(7, 0, 200, print_each=False)\n",
    "print(\"Optimal epsilon:\", best_epsilon)\n",
    "print(\"Optimal lambda:\", best_lambda)"
   ]
  },
  {
   "cell_type": "markdown",
   "metadata": {},
   "source": [
    "# World 8\n",
    "Similar maze to the previous two but much larger. With 0 exploration, the policy manages to achieve a steady state as soon as any other pair of parameters. Most of the pairs do equally well here.\n",
    "\n",
    "The agent doesn't need to explore much here. There is only 1 path that leads to the winning state, so the agent finds the path without any exploration by simply going into all the available dead ends first. Actually, I don't think I understand this one well enough, so that might be a stupid response.\n",
    "\n",
    "Lambda=1.0 fails every time because it probably results in cycles more often. Overall, exploring later on is not worthwhile, because almost all paths that aren't the winning path lead to dead ends and there is little space for slightly improving on an already winning path."
   ]
  },
  {
   "cell_type": "code",
   "execution_count": 1058,
   "metadata": {
    "code_folding": []
   },
   "outputs": [
    {
     "name": "stdout",
     "output_type": "stream",
     "text": [
      "  Epsilon    Lambda    Steady State Trials    Reward\n",
      "---------  --------  ---------------------  --------\n",
      "     0.00      0.00                    172        52\n",
      "     0.00      0.20                    172        52\n",
      "     0.00      0.40                    172        52\n",
      "     0.00      0.60                    172        52\n",
      "     0.00      0.80                    172        52\n",
      "     0.00      1.00                    172        52\n",
      "     0.20      0.00                    172        52\n",
      "     0.20      0.20                    172        52\n",
      "     0.20      0.40                    172        52\n",
      "     0.20      0.60                    172        52\n",
      "     0.20      0.80                    172        52\n",
      "     0.20      1.00                    144         0\n",
      "     0.40      0.00                    172        52\n",
      "     0.40      0.20                    172        52\n",
      "     0.40      0.40                    172        52\n",
      "     0.40      0.60                    172        52\n",
      "     0.40      0.80                    172        52\n",
      "     0.40      1.00                    140         0\n",
      "     0.60      0.00                    172        52\n",
      "     0.60      0.20                    172        52\n",
      "     0.60      0.40                    172        52\n",
      "     0.60      0.60                    172        52\n",
      "     0.60      0.80                    172        52\n",
      "     0.60      1.00                    179         0\n",
      "     0.80      0.00                    172        52\n",
      "     0.80      0.20                    172        52\n",
      "     0.80      0.40                    172        52\n",
      "     0.80      0.60                    172        52\n",
      "     0.80      0.80                    174        52\n",
      "     0.80      1.00                    120         0\n",
      "     1.00      0.00                    172        52\n",
      "     1.00      0.20                    172        52\n",
      "     1.00      0.40                    172        52\n",
      "     1.00      0.60                    172        52\n",
      "     1.00      0.80                    174        52\n",
      "     1.00      1.00                      5         0\n",
      "\n",
      "Optimal epsilon: 0.0\n",
      "Optimal lambda: 0.0\n"
     ]
    },
    {
     "data": {
      "image/png": "[encoded data removed]",
      "text/plain": [
       "<Figure size 800x400 with 1 Axes>"
      ]
     },
     "metadata": {},
     "output_type": "display_data"
    },
    {
     "name": "stdout",
     "output_type": "stream",
     "text": [
      "Reward: 52\n",
      "Steady state found at 172 trials.\n",
      "Optimal epsilon: 0.0\n",
      "Optimal lambda: 0.0\n"
     ]
    }
   ],
   "source": [
    "best_epsilon, best_lambda = optimize(8, 0, 200, print_each=False)\n",
    "print(\"Optimal epsilon:\", best_epsilon)\n",
    "print(\"Optimal lambda:\", best_lambda)"
   ]
  }
 ],
 "metadata": {
  "kernelspec": {
   "display_name": "Python 3 (ipykernel)",
   "language": "python",
   "name": "python3"
  },
  "language_info": {
   "codemirror_mode": {
    "name": "ipython",
    "version": 3
   },
   "file_extension": ".py",
   "mimetype": "text/x-python",
   "name": "python",
   "nbconvert_exporter": "python",
   "pygments_lexer": "ipython3",
   "version": "3.12.1"
  }
 },
 "nbformat": 4,
 "nbformat_minor": 4
}
